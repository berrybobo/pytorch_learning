{
 "cells": [
  {
   "cell_type": "markdown",
   "metadata": {},
   "source": [
    "## AlexNet\n",
    "在2012年, 由 [Alex Krizhevsky](https://www.cs.toronto.edu/~kriz/), [Ilya Sutskever](http://www.cs.toronto.edu/~ilya/), [Geoffrey Hinton](http://www.cs.toronto.edu/~hinton/)提出了一种使用卷积神经网络的方法, 以 [0.85](http://image-net.org/challenges/LSVRC/2012/results.html#abstract) 的`top-5`正确率一举获得当年分类比赛的冠军, 超越使用传统方法的第二名10个百分点, 震惊了当时的学术界, 从此开启了人工智能领域的新篇章.\n",
    "\n",
    "下面复现一次`AlexNet`, 首先来看它的网络结构\n",
    "\n",
    "<img src=\"https://ws4.sinaimg.cn/large/006tKfTcgy1fodv2ppd85j307l0n13yk.jpg\">\n",
    "\n",
    "可以看出`AlexNet`就是几个卷积池化堆叠后连接几个全连接层, 下面就让我们来尝试仿照这个结构来解决[cifar10](https://www.cs.toronto.edu/~kriz/cifar.html)分类问题."
   ]
  },
  {
   "cell_type": "code",
   "execution_count": 1,
   "metadata": {
    "ExecuteTime": {
     "end_time": "2018-02-12T11:34:50.845438Z",
     "start_time": "2018-02-12T11:34:50.427113Z"
    }
   },
   "outputs": [],
   "source": [
    "import torch\n",
    "from torch import nn\n",
    "import numpy as np\n",
    "from torch.autograd import Variable\n",
    "from torchvision.datasets import CIFAR10"
   ]
  },
  {
   "cell_type": "markdown",
   "metadata": {},
   "source": [
    "依照上面的结构，我们可以定义 AlexNet"
   ]
  },
  {
   "cell_type": "code",
   "execution_count": 2,
   "metadata": {
    "ExecuteTime": {
     "end_time": "2018-02-12T11:34:50.933245Z",
     "start_time": "2018-02-12T11:34:50.847597Z"
    }
   },
   "outputs": [],
   "source": [
    "class AlexNet(nn.Module):\n",
    "    def __init__(self):\n",
    "        super().__init__()\n",
    "        \n",
    "        # 第一层是 5x5 的卷积, 输入的 channels 是 3，输出的 channels 是 64, 步长是 1, 没有 padding\n",
    "        self.conv1 = nn.Sequential(\n",
    "            nn.Conv2d(3, 64, 5), \n",
    "            nn.ReLU(True))\n",
    "        \n",
    "        # 第二层是 3x3 的池化, 步长是 2, 没有 padding\n",
    "        self.max_pool1 = nn.MaxPool2d(3, 2)\n",
    "        \n",
    "        # 第三层是 5x5 的卷积, 输入的 channels 是 64，输出的 channels 是 64, 步长是 1, 没有 padding\n",
    "        self.conv2 = nn.Sequential(\n",
    "            nn.Conv2d(64, 64, 5, 1),\n",
    "            nn.ReLU(True))\n",
    "\n",
    "        # 第四层是 3x3 的池化，步长是 2，没有 padding\n",
    "        self.max_pool2 = nn.MaxPool2d(3, 2)\n",
    "        \n",
    "        # 第五层是全连接层，输入是 1204，输出是 384\n",
    "        self.fc1 = nn.Sequential(\n",
    "            nn.Linear(1024, 384),\n",
    "            nn.ReLU(True))\n",
    "        \n",
    "        # 第六层是全连接层，输入是 384，输出是 192\n",
    "        self.fc2 = nn.Sequential(\n",
    "            nn.Linear(384, 192),\n",
    "            nn.ReLU(True))\n",
    "        \n",
    "        # 第七层是全连接层，输入是 192，输出是 10\n",
    "        self.fc3 = nn.Linear(192, 10)\n",
    "        \n",
    "    def forward(self, x):\n",
    "        x = self.conv1(x)\n",
    "        x = self.max_pool1(x)\n",
    "        x = self.conv2(x)\n",
    "        x = self.max_pool2(x)\n",
    "        \n",
    "        # 将矩阵拉平\n",
    "        x = x.view(x.shape[0], -1)\n",
    "        x = self.fc1(x)\n",
    "        x = self.fc2(x)\n",
    "        x = self.fc3(x)\n",
    "        return x"
   ]
  },
  {
   "cell_type": "code",
   "execution_count": 3,
   "metadata": {
    "ExecuteTime": {
     "end_time": "2018-02-12T11:34:50.947728Z",
     "start_time": "2018-02-12T11:34:50.935359Z"
    }
   },
   "outputs": [],
   "source": [
    "alexnet = AlexNet()"
   ]
  },
  {
   "cell_type": "markdown",
   "metadata": {},
   "source": [
    "打印一下网络的结构"
   ]
  },
  {
   "cell_type": "code",
   "execution_count": 4,
   "metadata": {
    "ExecuteTime": {
     "end_time": "2018-02-12T11:34:50.963589Z",
     "start_time": "2018-02-12T11:34:50.949702Z"
    }
   },
   "outputs": [
    {
     "data": {
      "text/plain": [
       "AlexNet(\n",
       "  (conv1): Sequential(\n",
       "    (0): Conv2d(3, 64, kernel_size=(5, 5), stride=(1, 1))\n",
       "    (1): ReLU(inplace)\n",
       "  )\n",
       "  (max_pool1): MaxPool2d(kernel_size=3, stride=2, padding=0, dilation=1, ceil_mode=False)\n",
       "  (conv2): Sequential(\n",
       "    (0): Conv2d(64, 64, kernel_size=(5, 5), stride=(1, 1))\n",
       "    (1): ReLU(inplace)\n",
       "  )\n",
       "  (max_pool2): MaxPool2d(kernel_size=3, stride=2, padding=0, dilation=1, ceil_mode=False)\n",
       "  (fc1): Sequential(\n",
       "    (0): Linear(in_features=1024, out_features=384, bias=True)\n",
       "    (1): ReLU(inplace)\n",
       "  )\n",
       "  (fc2): Sequential(\n",
       "    (0): Linear(in_features=384, out_features=192, bias=True)\n",
       "    (1): ReLU(inplace)\n",
       "  )\n",
       "  (fc3): Linear(in_features=192, out_features=10, bias=True)\n",
       ")"
      ]
     },
     "execution_count": 4,
     "metadata": {},
     "output_type": "execute_result"
    }
   ],
   "source": [
    "alexnet"
   ]
  },
  {
   "cell_type": "markdown",
   "metadata": {},
   "source": [
    "我们验证一下网络结构是否正确，输入一张 32 x 32 的图片，看看输出"
   ]
  },
  {
   "cell_type": "code",
   "execution_count": 5,
   "metadata": {
    "ExecuteTime": {
     "end_time": "2018-02-12T11:34:50.974995Z",
     "start_time": "2018-02-12T11:34:50.965497Z"
    }
   },
   "outputs": [
    {
     "name": "stdout",
     "output_type": "stream",
     "text": [
      "torch.Size([1, 10])\n"
     ]
    }
   ],
   "source": [
    "# 定义输入为 (1, 3, 32, 32)\n",
    "input_demo = Variable(torch.zeros(1, 3, 32, 32))\n",
    "output_demo = alexnet(input_demo)\n",
    "print(output_demo.shape)"
   ]
  },
  {
   "cell_type": "code",
   "execution_count": 6,
   "metadata": {
    "ExecuteTime": {
     "end_time": "2018-02-12T11:34:56.908575Z",
     "start_time": "2018-02-12T11:34:50.976980Z"
    }
   },
   "outputs": [],
   "source": [
    "from utils import train\n",
    "\n",
    "def data_tf(x):\n",
    "    x = np.array(x, dtype='float32') / 255\n",
    "    x = (x - 0.5) / 0.5 # 标准化，这个技巧之后会讲到\n",
    "    x = x.transpose((2, 0, 1)) # 将 channel 放到第一维，只是 pytorch 要求的输入方式\n",
    "    x = torch.from_numpy(x)\n",
    "    return x\n",
    "     \n",
    "train_set = CIFAR10('./data', train=True, transform=data_tf)\n",
    "train_data = torch.utils.data.DataLoader(train_set, batch_size=64, shuffle=True)\n",
    "test_set = CIFAR10('./data', train=False, transform=data_tf)\n",
    "test_data = torch.utils.data.DataLoader(test_set, batch_size=128, shuffle=False)\n",
    "\n",
    "net = AlexNet().cuda()\n",
    "optimizer = torch.optim.SGD(net.parameters(), lr=1e-1)\n",
    "criterion = nn.CrossEntropyLoss()"
   ]
  },
  {
   "cell_type": "code",
   "execution_count": 7,
   "metadata": {
    "ExecuteTime": {
     "end_time": "2018-02-12T11:38:50.331195Z",
     "start_time": "2018-02-12T11:34:56.910952Z"
    }
   },
   "outputs": [
    {
     "name": "stderr",
     "output_type": "stream",
     "text": [
      "F:\\Notebook\\pytorch_learning\\utils.py:52: UserWarning: volatile was removed and now has no effect. Use `with torch.no_grad():` instead.\n",
      "  im = Variable(im.cuda(), volatile=True)\n",
      "F:\\Notebook\\pytorch_learning\\utils.py:53: UserWarning: volatile was removed and now has no effect. Use `with torch.no_grad():` instead.\n",
      "  label = Variable(label.cuda(), volatile=True)\n"
     ]
    },
    {
     "name": "stdout",
     "output_type": "stream",
     "text": [
      "Epoch 0. Train Loss: 1.737648, Train Acc: 0.360354, Valid Loss: 1.818357, Valid Acc: 0.332278, Time 00:00:12\n",
      "Epoch 1. Train Loss: 1.271463, Train Acc: 0.543558, Valid Loss: 1.802944, Valid Acc: 0.450356, Time 00:00:13\n",
      "Epoch 2. Train Loss: 1.030234, Train Acc: 0.637308, Valid Loss: 1.035772, Valid Acc: 0.639043, Time 00:00:13\n",
      "Epoch 3. Train Loss: 0.871309, Train Acc: 0.695013, Valid Loss: 1.180607, Valid Acc: 0.613924, Time 00:00:13\n",
      "Epoch 4. Train Loss: 0.754152, Train Acc: 0.736773, Valid Loss: 0.948707, Valid Acc: 0.667820, Time 00:00:13\n",
      "Epoch 5. Train Loss: 0.659849, Train Acc: 0.770301, Valid Loss: 0.987987, Valid Acc: 0.678995, Time 00:00:13\n",
      "Epoch 6. Train Loss: 0.581576, Train Acc: 0.796875, Valid Loss: 1.116473, Valid Acc: 0.663469, Time 00:00:13\n",
      "Epoch 7. Train Loss: 0.505174, Train Acc: 0.821072, Valid Loss: 0.870209, Valid Acc: 0.725376, Time 00:00:13\n",
      "Epoch 8. Train Loss: 0.435892, Train Acc: 0.847806, Valid Loss: 0.938800, Valid Acc: 0.722903, Time 00:00:13\n",
      "Epoch 9. Train Loss: 0.377877, Train Acc: 0.865070, Valid Loss: 0.943276, Valid Acc: 0.723892, Time 00:00:13\n",
      "Epoch 10. Train Loss: 0.317072, Train Acc: 0.887508, Valid Loss: 0.953425, Valid Acc: 0.738924, Time 00:00:13\n",
      "Epoch 11. Train Loss: 0.279353, Train Acc: 0.900535, Valid Loss: 1.092452, Valid Acc: 0.717069, Time 00:00:13\n",
      "Epoch 12. Train Loss: 0.233400, Train Acc: 0.917299, Valid Loss: 2.276092, Valid Acc: 0.566060, Time 00:00:13\n",
      "Epoch 13. Train Loss: 0.211352, Train Acc: 0.926590, Valid Loss: 1.353816, Valid Acc: 0.702235, Time 00:00:13\n",
      "Epoch 14. Train Loss: 0.185509, Train Acc: 0.934603, Valid Loss: 1.306644, Valid Acc: 0.722607, Time 00:00:13\n",
      "Epoch 15. Train Loss: 0.158969, Train Acc: 0.946072, Valid Loss: 2.055888, Valid Acc: 0.644976, Time 00:00:13\n",
      "Epoch 16. Train Loss: 0.146044, Train Acc: 0.948949, Valid Loss: 2.022007, Valid Acc: 0.665645, Time 00:00:13\n",
      "Epoch 17. Train Loss: 0.132812, Train Acc: 0.954684, Valid Loss: 1.803151, Valid Acc: 0.682456, Time 00:00:13\n",
      "Epoch 18. Train Loss: 0.114826, Train Acc: 0.960438, Valid Loss: 3.154033, Valid Acc: 0.600870, Time 00:00:13\n",
      "Epoch 19. Train Loss: 0.117087, Train Acc: 0.961217, Valid Loss: 1.705441, Valid Acc: 0.705894, Time 00:00:13\n"
     ]
    }
   ],
   "source": [
    "train(net, train_data, test_data, 20, optimizer, criterion)"
   ]
  },
  {
   "cell_type": "markdown",
   "metadata": {},
   "source": [
    "可以看到，训练 20 次，AlxeNet 能够在 cifar 10 上取得 70% 左右的测试集准确率"
   ]
  },
  {
   "cell_type": "code",
   "execution_count": null,
   "metadata": {},
   "outputs": [],
   "source": []
  }
 ],
 "metadata": {
  "kernelspec": {
   "display_name": "Python 3",
   "language": "python",
   "name": "python3"
  },
  "language_info": {
   "codemirror_mode": {
    "name": "ipython",
    "version": 3
   },
   "file_extension": ".py",
   "mimetype": "text/x-python",
   "name": "python",
   "nbconvert_exporter": "python",
   "pygments_lexer": "ipython3",
   "version": "3.6.5"
  }
 },
 "nbformat": 4,
 "nbformat_minor": 2
}
