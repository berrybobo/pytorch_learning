{
 "cells": [
  {
   "cell_type": "code",
   "execution_count": 1,
   "metadata": {},
   "outputs": [],
   "source": [
    "import numpy as np\n",
    "from PIL import Image\n",
    "import pickle\n",
    "import os"
   ]
  },
  {
   "cell_type": "code",
   "execution_count": 2,
   "metadata": {},
   "outputs": [],
   "source": [
    "CHANNEL = 3\n",
    "WIDTH = 32\n",
    "HEIGHT = 32"
   ]
  },
  {
   "cell_type": "code",
   "execution_count": 3,
   "metadata": {},
   "outputs": [],
   "source": [
    "data = []\n",
    "labels=[]\n",
    "classification = ['airplane','automobile','bird','cat','deer','dog','frog','horse','ship','truck']\n",
    " \n",
    "for i in range(5):\n",
    "    with open(\"data/cifar-10-python/cifar-10-batches-py/data_batch_\"+ str(i+1),mode='rb') as file:\n",
    "        data_dict = pickle.load(file, encoding='bytes')\n",
    "        data+= list(data_dict[b'data'])\n",
    "        labels+= list(data_dict[b'labels'])\n",
    " \n",
    "img =  np.reshape(data,[-1,CHANNEL, WIDTH, HEIGHT])\n",
    " "
   ]
  },
  {
   "cell_type": "code",
   "execution_count": 4,
   "metadata": {},
   "outputs": [],
   "source": [
    "data_path = \"data/images/\"\n",
    "if not os.path.exists(data_path):\n",
    "    os.makedirs(data_path)\n",
    "for i in range(img.shape[0]):\n",
    " \n",
    "    r = img[i][0]\n",
    "    g = img[i][1]\n",
    "    b = img[i][2]\n",
    " \n",
    "    ir = Image.fromarray(r)\n",
    "    ig = Image.fromarray(g)\n",
    "    ib = Image.fromarray(b)\n",
    "    rgb = Image.merge(\"RGB\", (ir, ig, ib))\n",
    " \n",
    "    name = \"img-\" + str(i) +\"-\"+ classification[labels[i]]+ \".png\"\n",
    "    rgb.save(data_path + name, \"PNG\")\n"
   ]
  },
  {
   "cell_type": "code",
   "execution_count": null,
   "metadata": {},
   "outputs": [],
   "source": []
  }
 ],
 "metadata": {
  "kernelspec": {
   "display_name": "Python 3",
   "language": "python",
   "name": "python3"
  },
  "language_info": {
   "codemirror_mode": {
    "name": "ipython",
    "version": 3
   },
   "file_extension": ".py",
   "mimetype": "text/x-python",
   "name": "python",
   "nbconvert_exporter": "python",
   "pygments_lexer": "ipython3",
   "version": "3.6.5"
  }
 },
 "nbformat": 4,
 "nbformat_minor": 2
}
