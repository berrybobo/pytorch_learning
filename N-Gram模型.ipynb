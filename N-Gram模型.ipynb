{
 "cells": [
  {
   "cell_type": "markdown",
   "metadata": {},
   "source": [
    "# N-Gram模型"
   ]
  },
  {
   "cell_type": "code",
   "execution_count": 1,
   "metadata": {},
   "outputs": [],
   "source": [
    "CONTEXT_SIZE = 2\n",
    "EMBEDDING_DIM = 10\n",
    "test_sentence = \"\"\"When forty winters shall besiege thy brow,\n",
    "And dig deep trenches in thy beauty's field,\n",
    "Thy youth's proud livery so gazed on now,\n",
    "Will be a totter'd weed of small worth held:\n",
    "Then being asked, where all thy beauty lies,\n",
    "Where all the treasure of thy lusty days;\n",
    "To say, within thine own deep sunken eyes,\n",
    "Were an all-eating shame, and thriftless praise.\n",
    "How much more praise deserv'd thy beauty's use,\n",
    "If thou couldst answer 'This fair child of mine\n",
    "Shall sum my count, and make my old excuse,'\n",
    "Proving his beauty by succession thine!\n",
    "This were to be new made when thou art old,\n",
    "And see thy blood warm when thou feel'st it cold.\"\"\".split()"
   ]
  },
  {
   "cell_type": "code",
   "execution_count": 2,
   "metadata": {},
   "outputs": [
    {
     "name": "stdout",
     "output_type": "stream",
     "text": [
      "['When', 'forty', 'winters', 'shall', 'besiege', 'thy', 'brow,', 'And', 'dig', 'deep', 'trenches', 'in', 'thy', \"beauty's\", 'field,', 'Thy', \"youth's\", 'proud', 'livery', 'so', 'gazed', 'on', 'now,', 'Will', 'be', 'a', \"totter'd\", 'weed', 'of', 'small', 'worth', 'held:', 'Then', 'being', 'asked,', 'where', 'all', 'thy', 'beauty', 'lies,', 'Where', 'all', 'the', 'treasure', 'of', 'thy', 'lusty', 'days;', 'To', 'say,', 'within', 'thine', 'own', 'deep', 'sunken', 'eyes,', 'Were', 'an', 'all-eating', 'shame,', 'and', 'thriftless', 'praise.', 'How', 'much', 'more', 'praise', \"deserv'd\", 'thy', \"beauty's\", 'use,', 'If', 'thou', 'couldst', 'answer', \"'This\", 'fair', 'child', 'of', 'mine', 'Shall', 'sum', 'my', 'count,', 'and', 'make', 'my', 'old', \"excuse,'\", 'Proving', 'his', 'beauty', 'by', 'succession', 'thine!', 'This', 'were', 'to', 'be', 'new', 'made', 'when', 'thou', 'art', 'old,', 'And', 'see', 'thy', 'blood', 'warm', 'when', 'thou', \"feel'st\", 'it', 'cold.']\n"
     ]
    }
   ],
   "source": [
    "print(test_sentence)"
   ]
  },
  {
   "cell_type": "code",
   "execution_count": 3,
   "metadata": {},
   "outputs": [],
   "source": [
    "trigram = [((test_sentence[i],test_sentence[i+1]),test_sentence[i+2])\n",
    "          for i in range(len(test_sentence)-2)]"
   ]
  },
  {
   "cell_type": "code",
   "execution_count": 4,
   "metadata": {},
   "outputs": [
    {
     "data": {
      "text/plain": [
       "113"
      ]
     },
     "execution_count": 4,
     "metadata": {},
     "output_type": "execute_result"
    }
   ],
   "source": [
    "len(trigram)"
   ]
  },
  {
   "cell_type": "code",
   "execution_count": 5,
   "metadata": {},
   "outputs": [
    {
     "name": "stdout",
     "output_type": "stream",
     "text": [
      "[(('When', 'forty'), 'winters'), (('forty', 'winters'), 'shall'), (('winters', 'shall'), 'besiege'), (('shall', 'besiege'), 'thy'), (('besiege', 'thy'), 'brow,'), (('thy', 'brow,'), 'And'), (('brow,', 'And'), 'dig'), (('And', 'dig'), 'deep'), (('dig', 'deep'), 'trenches'), (('deep', 'trenches'), 'in'), (('trenches', 'in'), 'thy'), (('in', 'thy'), \"beauty's\"), (('thy', \"beauty's\"), 'field,'), ((\"beauty's\", 'field,'), 'Thy'), (('field,', 'Thy'), \"youth's\"), (('Thy', \"youth's\"), 'proud'), ((\"youth's\", 'proud'), 'livery'), (('proud', 'livery'), 'so'), (('livery', 'so'), 'gazed'), (('so', 'gazed'), 'on'), (('gazed', 'on'), 'now,'), (('on', 'now,'), 'Will'), (('now,', 'Will'), 'be'), (('Will', 'be'), 'a'), (('be', 'a'), \"totter'd\"), (('a', \"totter'd\"), 'weed'), ((\"totter'd\", 'weed'), 'of'), (('weed', 'of'), 'small'), (('of', 'small'), 'worth'), (('small', 'worth'), 'held:'), (('worth', 'held:'), 'Then'), (('held:', 'Then'), 'being'), (('Then', 'being'), 'asked,'), (('being', 'asked,'), 'where'), (('asked,', 'where'), 'all'), (('where', 'all'), 'thy'), (('all', 'thy'), 'beauty'), (('thy', 'beauty'), 'lies,'), (('beauty', 'lies,'), 'Where'), (('lies,', 'Where'), 'all'), (('Where', 'all'), 'the'), (('all', 'the'), 'treasure'), (('the', 'treasure'), 'of'), (('treasure', 'of'), 'thy'), (('of', 'thy'), 'lusty'), (('thy', 'lusty'), 'days;'), (('lusty', 'days;'), 'To'), (('days;', 'To'), 'say,'), (('To', 'say,'), 'within'), (('say,', 'within'), 'thine'), (('within', 'thine'), 'own'), (('thine', 'own'), 'deep'), (('own', 'deep'), 'sunken'), (('deep', 'sunken'), 'eyes,'), (('sunken', 'eyes,'), 'Were'), (('eyes,', 'Were'), 'an'), (('Were', 'an'), 'all-eating'), (('an', 'all-eating'), 'shame,'), (('all-eating', 'shame,'), 'and'), (('shame,', 'and'), 'thriftless'), (('and', 'thriftless'), 'praise.'), (('thriftless', 'praise.'), 'How'), (('praise.', 'How'), 'much'), (('How', 'much'), 'more'), (('much', 'more'), 'praise'), (('more', 'praise'), \"deserv'd\"), (('praise', \"deserv'd\"), 'thy'), ((\"deserv'd\", 'thy'), \"beauty's\"), (('thy', \"beauty's\"), 'use,'), ((\"beauty's\", 'use,'), 'If'), (('use,', 'If'), 'thou'), (('If', 'thou'), 'couldst'), (('thou', 'couldst'), 'answer'), (('couldst', 'answer'), \"'This\"), (('answer', \"'This\"), 'fair'), ((\"'This\", 'fair'), 'child'), (('fair', 'child'), 'of'), (('child', 'of'), 'mine'), (('of', 'mine'), 'Shall'), (('mine', 'Shall'), 'sum'), (('Shall', 'sum'), 'my'), (('sum', 'my'), 'count,'), (('my', 'count,'), 'and'), (('count,', 'and'), 'make'), (('and', 'make'), 'my'), (('make', 'my'), 'old'), (('my', 'old'), \"excuse,'\"), (('old', \"excuse,'\"), 'Proving'), ((\"excuse,'\", 'Proving'), 'his'), (('Proving', 'his'), 'beauty'), (('his', 'beauty'), 'by'), (('beauty', 'by'), 'succession'), (('by', 'succession'), 'thine!'), (('succession', 'thine!'), 'This'), (('thine!', 'This'), 'were'), (('This', 'were'), 'to'), (('were', 'to'), 'be'), (('to', 'be'), 'new'), (('be', 'new'), 'made'), (('new', 'made'), 'when'), (('made', 'when'), 'thou'), (('when', 'thou'), 'art'), (('thou', 'art'), 'old,'), (('art', 'old,'), 'And'), (('old,', 'And'), 'see'), (('And', 'see'), 'thy'), (('see', 'thy'), 'blood'), (('thy', 'blood'), 'warm'), (('blood', 'warm'), 'when'), (('warm', 'when'), 'thou'), (('when', 'thou'), \"feel'st\"), (('thou', \"feel'st\"), 'it'), ((\"feel'st\", 'it'), 'cold.')]\n"
     ]
    }
   ],
   "source": [
    "print(trigram)"
   ]
  },
  {
   "cell_type": "code",
   "execution_count": 6,
   "metadata": {},
   "outputs": [
    {
     "data": {
      "text/plain": [
       "(('When', 'forty'), 'winters')"
      ]
     },
     "execution_count": 6,
     "metadata": {},
     "output_type": "execute_result"
    }
   ],
   "source": [
    "trigram[0]"
   ]
  },
  {
   "attachments": {
    "image.png": {
     "image/png": "[encoded data removed]"
    }
   },
   "cell_type": "markdown",
   "metadata": {},
   "source": [
    "enumerate() 函数用于将一个可遍历的数据对象(如列表、元组或字符串)组合为一个索引序列，同时列出数据和数据下标，一般用在 for 循环当中。\n",
    "![image.png](attachment:image.png)"
   ]
  },
  {
   "cell_type": "code",
   "execution_count": 7,
   "metadata": {},
   "outputs": [],
   "source": [
    "#建立每个词与数字的编码，据此构建词潜入\n",
    "vocb = set(test_sentence) # 使用set将重复的元素去掉\n",
    "#print(vocb)\n",
    "#print(list(enumerate(vocb)))\n",
    "word_to_idx = {word: i for i,word in enumerate(vocb)}\n",
    "idx_to_word = {word_to_idx[word]: word for word in word_to_idx}"
   ]
  },
  {
   "cell_type": "code",
   "execution_count": 8,
   "metadata": {},
   "outputs": [
    {
     "data": {
      "text/plain": [
       "{'beauty': 0,\n",
       " 'say,': 1,\n",
       " \"totter'd\": 2,\n",
       " 'his': 3,\n",
       " 'it': 4,\n",
       " 'gazed': 5,\n",
       " 'see': 6,\n",
       " 'within': 7,\n",
       " 'dig': 8,\n",
       " 'praise.': 9,\n",
       " 'Shall': 10,\n",
       " 'thine': 11,\n",
       " 'to': 12,\n",
       " 'count,': 13,\n",
       " 'worth': 14,\n",
       " 'Were': 15,\n",
       " 'days;': 16,\n",
       " 'where': 17,\n",
       " 'old,': 18,\n",
       " 'treasure': 19,\n",
       " 'How': 20,\n",
       " 'mine': 21,\n",
       " 'deep': 22,\n",
       " 'sunken': 23,\n",
       " 'praise': 24,\n",
       " \"excuse,'\": 25,\n",
       " 'besiege': 26,\n",
       " 'and': 27,\n",
       " 'trenches': 28,\n",
       " 'Then': 29,\n",
       " 'old': 30,\n",
       " 'shame,': 31,\n",
       " \"youth's\": 32,\n",
       " 'eyes,': 33,\n",
       " 'answer': 34,\n",
       " 'Will': 35,\n",
       " 'succession': 36,\n",
       " 'Proving': 37,\n",
       " 'when': 38,\n",
       " 'lusty': 39,\n",
       " 'held:': 40,\n",
       " 'Where': 41,\n",
       " 'This': 42,\n",
       " 'a': 43,\n",
       " 'weed': 44,\n",
       " 'field,': 45,\n",
       " 'forty': 46,\n",
       " 'livery': 47,\n",
       " 'Thy': 48,\n",
       " 'be': 49,\n",
       " 'small': 50,\n",
       " 'on': 51,\n",
       " 'And': 52,\n",
       " 'shall': 53,\n",
       " 'sum': 54,\n",
       " 'When': 55,\n",
       " 'thine!': 56,\n",
       " 'by': 57,\n",
       " 'thriftless': 58,\n",
       " 'new': 59,\n",
       " 'so': 60,\n",
       " 'proud': 61,\n",
       " 'make': 62,\n",
       " 'now,': 63,\n",
       " 'thy': 64,\n",
       " 'own': 65,\n",
       " 'blood': 66,\n",
       " 'all': 67,\n",
       " 'art': 68,\n",
       " 'were': 69,\n",
       " \"feel'st\": 70,\n",
       " 'use,': 71,\n",
       " 'the': 72,\n",
       " 'To': 73,\n",
       " 'brow,': 74,\n",
       " 'much': 75,\n",
       " 'an': 76,\n",
       " 'asked,': 77,\n",
       " 'of': 78,\n",
       " 'thou': 79,\n",
       " 'cold.': 80,\n",
       " 'winters': 81,\n",
       " \"deserv'd\": 82,\n",
       " 'warm': 83,\n",
       " 'being': 84,\n",
       " \"'This\": 85,\n",
       " 'more': 86,\n",
       " 'made': 87,\n",
       " 'child': 88,\n",
       " \"beauty's\": 89,\n",
       " 'all-eating': 90,\n",
       " 'fair': 91,\n",
       " 'If': 92,\n",
       " 'couldst': 93,\n",
       " 'lies,': 94,\n",
       " 'in': 95,\n",
       " 'my': 96}"
      ]
     },
     "execution_count": 8,
     "metadata": {},
     "output_type": "execute_result"
    }
   ],
   "source": [
    "word_to_idx"
   ]
  },
  {
   "cell_type": "markdown",
   "metadata": {},
   "source": [
    "从上面可以看到每个词都对应一个数字，且这里的单词都各不相同\n",
    "\n",
    "下面定义模型，模型的输入就是前面的两个词，输出是预测单词的概率"
   ]
  },
  {
   "cell_type": "code",
   "execution_count": 9,
   "metadata": {},
   "outputs": [],
   "source": [
    "import torch\n",
    "from torch import nn\n",
    "import torch.nn.functional as F\n",
    "from torch.autograd import Variable"
   ]
  },
  {
   "cell_type": "markdown",
   "metadata": {},
   "source": [
    "类 nn.Module 的继承（具体官方文档https://pytorch.org/tutorials/）"
   ]
  },
  {
   "cell_type": "code",
   "execution_count": 18,
   "metadata": {},
   "outputs": [],
   "source": [
    "#定义模型\n",
    "class n_gram(nn.Module):   \n",
    "    def __init__(self, vocab_size, context_size=CONTEXT_SIZE, n_dim=EMBEDDING_DIM):\n",
    "        super(n_gram, self).__init__()\n",
    "        \n",
    "        self.embed = nn.Embedding(vocab_size, n_dim)\n",
    "        self.classify = nn.Sequential(\n",
    "            nn.Linear(context_size * n_dim, 128),\n",
    "            nn.ReLU(True),\n",
    "            nn.Linear(128, vocab_size)\n",
    "        )\n",
    "    def forward(self, x):\n",
    "        voc_embed = self.embed(x)  #得到词嵌入\n",
    "        voc_embed = voc_embed.view(1, -1)  # 将两个词向量拼在一起\n",
    "        out = self.classify(voc_embed)\n",
    "        return out"
   ]
  },
  {
   "cell_type": "markdown",
   "metadata": {},
   "source": [
    "最后的输出为条件概率，相当于一个分类问题，可以使用交叉熵来衡量误差"
   ]
  },
  {
   "cell_type": "code",
   "execution_count": 19,
   "metadata": {},
   "outputs": [],
   "source": [
    "net = n_gram(len(word_to_idx))\n",
    "\n",
    "criterion = nn.CrossEntropyLoss()   #交叉熵\n",
    "optimizer = torch.optim.SGD(net.parameters(), lr=1e-2, weight_decay=1e-5)  #自动求导，随机梯度下降"
   ]
  },
  {
   "cell_type": "code",
   "execution_count": 20,
   "metadata": {},
   "outputs": [
    {
     "name": "stdout",
     "output_type": "stream",
     "text": [
      "epoch: 20,loss:0.742471\n",
      "epoch: 40,loss:0.133887\n",
      "epoch: 60,loss:0.086193\n",
      "epoch: 80,loss:0.070487\n",
      "epoch: 100,loss:0.062206\n"
     ]
    }
   ],
   "source": [
    "for e in range(100):\n",
    "    train_loss = 0\n",
    "    for word, label in trigram:  #使用前100个最为训练集\n",
    "        word = Variable(torch.LongTensor([word_to_idx[i] for i in word]))  #将两个词最为输入\n",
    "        label = Variable(torch.LongTensor([word_to_idx[label]]))\n",
    "        \n",
    "        #前向传播\n",
    "        out = net(word)\n",
    "        loss = criterion(out, label)\n",
    "        train_loss += loss.item()\n",
    "        #反向传播\n",
    "        optimizer.zero_grad()\n",
    "        loss.backward()\n",
    "        optimizer.step()\n",
    "    if (e + 1) % 20 == 0:\n",
    "        print('epoch: {},loss:{:.6f}'.format(e + 1, train_loss / len(trigram)))"
   ]
  },
  {
   "cell_type": "markdown",
   "metadata": {},
   "source": [
    "测试下结果"
   ]
  },
  {
   "cell_type": "code",
   "execution_count": 21,
   "metadata": {},
   "outputs": [],
   "source": [
    "net = net.eval()"
   ]
  },
  {
   "cell_type": "code",
   "execution_count": 16,
   "metadata": {},
   "outputs": [
    {
     "name": "stdout",
     "output_type": "stream",
     "text": [
      "input:('so', 'gazed')\n",
      "label:on\n",
      "\n",
      "real word is on, predicted word is on\n"
     ]
    }
   ],
   "source": [
    "#根据前两个单词，预测下一个单词\n",
    "word, label = trigram[19]\n",
    "print('input:{}'.format(word))\n",
    "print('label:{}'.format(label))\n",
    "print()\n",
    "word = Variable(torch.LongTensor([word_to_idx[i] for i in word]))\n",
    "out = net(word)\n",
    "pred_label_idx = out.max(1)[1].item()\n",
    "predict_word = idx_to_word[pred_label_idx]\n",
    "print('real word is {}, predicted word is {}'.format(label, predict_word))"
   ]
  },
  {
   "cell_type": "markdown",
   "metadata": {},
   "source": [
    "试一下别的"
   ]
  },
  {
   "cell_type": "code",
   "execution_count": 17,
   "metadata": {},
   "outputs": [
    {
     "name": "stdout",
     "output_type": "stream",
     "text": [
      "input:(\"'This\", 'fair')\n",
      "label:child\n",
      "\n",
      "real word is child, predicted word is child\n"
     ]
    }
   ],
   "source": [
    "word, label = trigram[75]\n",
    "print('input:{}'.format(word))\n",
    "print('label:{}'.format(label))\n",
    "print()\n",
    "word = Variable(torch.LongTensor([word_to_idx[i] for i in word]))\n",
    "out = net(word)\n",
    "pred_label_idx = out.max(1)[1].item()\n",
    "predict_word = idx_to_word[pred_label_idx]\n",
    "print('real word is {}, predicted word is {}'.format(label, predict_word))"
   ]
  },
  {
   "cell_type": "markdown",
   "metadata": {},
   "source": [
    "可以看到训练集上基本准确，但由于样本太少，容易出现过拟合"
   ]
  }
 ],
 "metadata": {
  "kernelspec": {
   "display_name": "Python 3",
   "language": "python",
   "name": "python3"
  },
  "language_info": {
   "codemirror_mode": {
    "name": "ipython",
    "version": 3
   },
   "file_extension": ".py",
   "mimetype": "text/x-python",
   "name": "python",
   "nbconvert_exporter": "python",
   "pygments_lexer": "ipython3",
   "version": "3.6.5"
  }
 },
 "nbformat": 4,
 "nbformat_minor": 2
}
